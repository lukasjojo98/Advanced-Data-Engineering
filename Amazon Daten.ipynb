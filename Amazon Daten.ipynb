{
 "cells": [
  {
   "metadata": {
    "ExecuteTime": {
     "end_time": "2024-12-02T13:31:16.171970Z",
     "start_time": "2024-12-02T13:31:16.158825Z"
    }
   },
   "cell_type": "code",
   "source": [
    "from pyspark.sql import SparkSession\n",
    "from pyspark.mllib.feature import HashingTF\n",
    "from pyspark.mllib.regression import LabeledPoint\n",
    "from pyspark.mllib.classification import LogisticRegressionWithSGD\n",
    "from pyspark.mllib.evaluation import MulticlassMetrics\n",
    "import json\n",
    "from dotenv import load_dotenv\n",
    "import os"
   ],
   "id": "727d49081a1fd4e0",
   "outputs": [],
   "execution_count": 6
  },
  {
   "metadata": {
    "ExecuteTime": {
     "end_time": "2024-12-02T13:31:16.690506Z",
     "start_time": "2024-12-02T13:31:16.676932Z"
    }
   },
   "cell_type": "code",
   "source": [
    "spark = SparkSession.builder \\\n",
    "    .appName(\"Sentiment Analysis with JSON Data\") \\\n",
    "    .getOrCreate()\n",
    "\n",
    "sc = spark.sparkContext"
   ],
   "id": "f689e8b064dcf9b6",
   "outputs": [],
   "execution_count": 7
  },
  {
   "metadata": {
    "ExecuteTime": {
     "end_time": "2024-12-02T13:31:17.439442Z",
     "start_time": "2024-12-02T13:31:17.345769Z"
    }
   },
   "cell_type": "code",
   "source": [
    "load_dotenv(\"./env.env\")\n",
    "path = os.getenv(\"DATA_PATH\")\n",
    "\n",
    "rdd = sc.textFile(path)\n",
    "parsed_rdd = rdd.map(lambda line: json.loads(line))\n",
    "ratings_rdd = parsed_rdd.map(lambda review: (review.get('overall'), review.get('reviewText'))).filter(lambda x: x[0] is not None and x[1] is not None)\n"
   ],
   "id": "a40e673b0dc0b85a",
   "outputs": [],
   "execution_count": 8
  },
  {
   "metadata": {
    "ExecuteTime": {
     "end_time": "2024-12-02T13:31:19.355449Z",
     "start_time": "2024-12-02T13:31:18.353438Z"
    }
   },
   "cell_type": "code",
   "source": "print(ratings_rdd.take(19))",
   "id": "49a0b9d8b90d7de",
   "outputs": [
    {
     "name": "stdout",
     "output_type": "stream",
     "text": [
      "[(1.0, 'I used to play this game years ago and loved it. I found this did not work on my computer even though it said it would work with Windows 7.'), (3.0, 'The game itself worked great but the story line videos would never play, the sound was fine but the picture would freeze and go black every time.'), (4.0, \"I had to learn the hard way after ordering this for my MacBook Pro that this doesn't work unless you have MAC OS version 10.3 or less. I found that out after contact the Learning Company directly. They were very prompt in their response. However, I also have a laptop with Microsoft 7. This program loaded beautifully with the Microsoft base. So, if you have Microsoft 7 or 8, purchase and enjoy this game. Any mac systems will likely have issues.\"), (1.0, 'The product description should state this clearly. The CD, the box, and the product description suggest that the game is compatible with all Macs. It is not.'), (4.0, 'I would recommend this learning game for anyone who likes learning about history\\nI really like playing this history game'), (5.0, 'Choose your career which sets your money for the trip.  Then name how many and who will be traveling with you.  Before you leave town, you must go into town  choose wagons or Conestoga, animals and many supplies -watch your cash and your wagon weight!  On your journey you can talk with different people to make decisions about your next moves.  You also get to hunt, fish, & gather..Be careful of disease & rivers!'), (3.0, 'Would like it more if they had at least updated it to run on the new software.  Had to download old fonts and old versions of software to get it to even run on my laptop'), (5.0, 'It took a few hours to get this up and running on Windows 8 computer and Windows XP.  If you get an error go and download their patch.\\n\\n[...]\\n\\nJust the patch alone worked like a charm on Windows XP.  For Windows 8 I download the patch AND had to change the compatibility to WIndows ME.\\n\\nClassic game that the kids learn so much from...worth it.'), (5.0, 'I oredered this for a daughter who is now 33 and she wanted to play the Oregon Trail that we had years ago...she and her fmily have had a blast with it..we laughed a lot as she would holler and squeal as she played the game.........so it has met all our expectations..'), (5.0, \"Well I thought since this idem didn't have any reviews I would make on for it.\\n\\nI got this game when I was somewhere around 8 1/2 Years old. I have played and beaten this game about 10 times. It's help kids learn about different types of plants which ones are safe to eat and which ones are deadly. You can geather, fish and hunt.\\n\\nGraphics: The graphics are amazing very fine and sharp which doesn't happen with most games.\\n\\nSound: The sound if wonderful although it sometimes is a little slow, but other then that it's really good.\\n\\nPros: Help ppl learn about different plants, fish and wild game.\\nIs really fun to play and it never gets old.\\nHas really cool short movies that you can watch over and over again.\\n\\nCons: For some reason the rattle snakes always try to kill me.\\nCan sometimes be a little tricky but if you bye the right stuff you will be fine.\\nThe disc got scratched up pretty easyly from just being in the Cd rom.\\n\\nOverall it's a good game that is good for ages 6 and up.\"), (5.0, \"I got this to show my kids what I used to play in school.  The graphics are significantly better than I remember.  It's still the same decision making, problem solving, luck of the draw game it always was.  It's a fun way to share 'history' with the kids.  I use it to encourage empathy as they can see relatively quickly how their decisions directly impact others for good or bad.\"), (5.0, 'Works great!'), (1.0, 'I cannot get this game to install on my computer no matter what I do.'), (1.0, \"My kids were psyched to get this to go along with our studies and it doesn't work on our MAC...even though the description states MAC...gotta have an OLD MAC!  Now I have to pay the return shipping?  Not cool\"), (5.0, 'You must buy this game!! It is so much fun! Get ready for the plague! LOL'), (5.0, 'Great game to play'), (5.0, 'LOVE THE GAME!!!!! GREAT SELLER!!!!!'), (2.0, \"Doesn't say.  But is not compatible with newer model Macs.  So have to do a big headaches worth of stuff to be able to even run it.  Then it freezes and sticks all the time.  Not happy at all\"), (5.0, 'just what i was looking for')]\n"
     ]
    }
   ],
   "execution_count": 9
  },
  {
   "metadata": {
    "ExecuteTime": {
     "end_time": "2024-12-02T13:33:16.462527Z",
     "start_time": "2024-12-02T13:33:16.449619Z"
    }
   },
   "cell_type": "code",
   "source": "train_rdd, test_rdd = ratings_rdd.randomSplit([0.8, 0.2], seed=42)",
   "id": "b71dea9867665982",
   "outputs": [],
   "execution_count": 14
  },
  {
   "metadata": {
    "ExecuteTime": {
     "end_time": "2024-12-02T13:33:17.732063Z",
     "start_time": "2024-12-02T13:33:16.888763Z"
    }
   },
   "cell_type": "code",
   "source": "print(train_rdd.take(10))",
   "id": "8da949c16d2873ed",
   "outputs": [
    {
     "name": "stdout",
     "output_type": "stream",
     "text": [
      "[(1.0, 'I used to play this game years ago and loved it. I found this did not work on my computer even though it said it would work with Windows 7.'), (3.0, 'The game itself worked great but the story line videos would never play, the sound was fine but the picture would freeze and go black every time.'), (4.0, \"I had to learn the hard way after ordering this for my MacBook Pro that this doesn't work unless you have MAC OS version 10.3 or less. I found that out after contact the Learning Company directly. They were very prompt in their response. However, I also have a laptop with Microsoft 7. This program loaded beautifully with the Microsoft base. So, if you have Microsoft 7 or 8, purchase and enjoy this game. Any mac systems will likely have issues.\"), (1.0, 'The product description should state this clearly. The CD, the box, and the product description suggest that the game is compatible with all Macs. It is not.'), (4.0, 'I would recommend this learning game for anyone who likes learning about history\\nI really like playing this history game'), (5.0, 'Choose your career which sets your money for the trip.  Then name how many and who will be traveling with you.  Before you leave town, you must go into town  choose wagons or Conestoga, animals and many supplies -watch your cash and your wagon weight!  On your journey you can talk with different people to make decisions about your next moves.  You also get to hunt, fish, & gather..Be careful of disease & rivers!'), (3.0, 'Would like it more if they had at least updated it to run on the new software.  Had to download old fonts and old versions of software to get it to even run on my laptop'), (5.0, 'It took a few hours to get this up and running on Windows 8 computer and Windows XP.  If you get an error go and download their patch.\\n\\n[...]\\n\\nJust the patch alone worked like a charm on Windows XP.  For Windows 8 I download the patch AND had to change the compatibility to WIndows ME.\\n\\nClassic game that the kids learn so much from...worth it.'), (5.0, 'I oredered this for a daughter who is now 33 and she wanted to play the Oregon Trail that we had years ago...she and her fmily have had a blast with it..we laughed a lot as she would holler and squeal as she played the game.........so it has met all our expectations..'), (5.0, \"I got this to show my kids what I used to play in school.  The graphics are significantly better than I remember.  It's still the same decision making, problem solving, luck of the draw game it always was.  It's a fun way to share 'history' with the kids.  I use it to encourage empathy as they can see relatively quickly how their decisions directly impact others for good or bad.\")]\n"
     ]
    }
   ],
   "execution_count": 15
  }
 ],
 "metadata": {
  "kernelspec": {
   "display_name": "Python 3",
   "language": "python",
   "name": "python3"
  },
  "language_info": {
   "codemirror_mode": {
    "name": "ipython",
    "version": 2
   },
   "file_extension": ".py",
   "mimetype": "text/x-python",
   "name": "python",
   "nbconvert_exporter": "python",
   "pygments_lexer": "ipython2",
   "version": "2.7.6"
  }
 },
 "nbformat": 4,
 "nbformat_minor": 5
}
