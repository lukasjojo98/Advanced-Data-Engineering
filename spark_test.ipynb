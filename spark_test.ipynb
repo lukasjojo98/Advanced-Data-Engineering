{
 "cells": [
  {
   "cell_type": "code",
   "execution_count": 23,
   "id": "1de213cb",
   "metadata": {},
   "outputs": [],
   "source": [
    "import pandas as pd\n",
    "import gzip, os, json, time\n",
    "from pyspark.sql import SparkSession\n",
    "\n",
    "os.environ[\"SPARK_HOME\"] = \"/usr/local/spark-3.5.3-bin-hadoop3\"\n",
    "import findspark\n",
    "findspark.init()\n",
    "import pyspark"
   ]
  },
  {
   "cell_type": "markdown",
   "id": "bbe53901",
   "metadata": {},
   "source": [
    "## Demo without Spark"
   ]
  },
  {
   "cell_type": "code",
   "execution_count": 24,
   "id": "994a57a2",
   "metadata": {},
   "outputs": [],
   "source": [
    "def parse(path):\n",
    "  g = gzip.open(path, 'rb')\n",
    "  for l in g:\n",
    "    yield json.loads(l)\n",
    "\n",
    "def getDF(path):\n",
    "  i = 0\n",
    "  df = {}\n",
    "  for d in parse(path):\n",
    "    df[i] = d\n",
    "    i += 1\n",
    "  return pd.DataFrame.from_dict(df, orient='index')"
   ]
  },
  {
   "cell_type": "code",
   "execution_count": 3,
   "id": "058874d7",
   "metadata": {},
   "outputs": [],
   "source": [
    "path = os.path.abspath('/Users/lukasheini/Desktop/Advanced Data Engineering/Projekt/Data/Video_Games.json.gz')\n",
    "\n",
    "start_time = time.time()\n",
    "\n",
    "df = getDF(path)\n",
    "ratings = []\n",
    "for review in parse(path):\n",
    "  ratings.append(review['overall'])\n",
    "\n",
    "end_time = time.time()\n",
    "elapsed_time = end_time - start_time"
   ]
  },
  {
   "cell_type": "code",
   "execution_count": 4,
   "id": "f9de2310",
   "metadata": {},
   "outputs": [
    {
     "name": "stdout",
     "output_type": "stream",
     "text": [
      "4.0220948494727224\n",
      "Time taken: 151.415379 seconds\n"
     ]
    }
   ],
   "source": [
    "print(sum(ratings) / len(ratings))\n",
    "print(f\"Time taken: {elapsed_time:.6f} seconds\")"
   ]
  },
  {
   "cell_type": "markdown",
   "id": "06bf8689",
   "metadata": {},
   "source": [
    "## Demo with Spark (Spark Dataframe)"
   ]
  },
  {
   "cell_type": "code",
   "execution_count": 12,
   "id": "02269e55",
   "metadata": {},
   "outputs": [],
   "source": [
    "spark = SparkSession.builder \\\n",
    "    .appName(\"AmazonReviewsAnalysis\") \\\n",
    "    .getOrCreate()"
   ]
  },
  {
   "cell_type": "code",
   "execution_count": 8,
   "id": "6a8ec8da",
   "metadata": {},
   "outputs": [
    {
     "name": "stderr",
     "output_type": "stream",
     "text": [
      "                                                                                \r"
     ]
    }
   ],
   "source": [
    "start_time = time.time()\n",
    "\n",
    "reviews_df = spark.read.json(path)\n",
    "valid_reviews_df = reviews_df.filter(reviews_df.overall.isNotNull())\n",
    "average_rating = valid_reviews_df.selectExpr(\"avg(overall) as avg_rating\").collect()[0]['avg_rating']\n",
    "\n",
    "end_time = time.time()\n",
    "\n",
    "elapsed_time = end_time - start_time"
   ]
  },
  {
   "cell_type": "code",
   "execution_count": 9,
   "id": "87bf2735",
   "metadata": {},
   "outputs": [
    {
     "name": "stdout",
     "output_type": "stream",
     "text": [
      "Average Rating: 4.0220948494727224\n",
      "Time taken: 24.500437 seconds\n"
     ]
    }
   ],
   "source": [
    "print(f\"Average Rating: {average_rating}\")\n",
    "print(f\"Time taken: {elapsed_time:.6f} seconds\")\n",
    "spark.stop()"
   ]
  },
  {
   "cell_type": "markdown",
   "id": "390dca6f",
   "metadata": {},
   "source": [
    "## Demo with Spark (RDD)"
   ]
  },
  {
   "cell_type": "code",
   "execution_count": 27,
   "id": "417f3a5d",
   "metadata": {},
   "outputs": [
    {
     "name": "stderr",
     "output_type": "stream",
     "text": [
      "                                                                                \r"
     ]
    }
   ],
   "source": [
    "sc = pyspark.SparkContext.getOrCreate(\"AmazonReviewsAnalysisRDD\")\n",
    "\n",
    "start_time = time.time()\n",
    "\n",
    "rdd = sc.textFile(path)\n",
    "parsed_rdd = rdd.map(lambda line: json.loads(line))\n",
    "ratings_rdd = parsed_rdd.map(lambda review: review.get('overall')).filter(lambda x: x is not None)\n",
    "\n",
    "rating_sum = ratings_rdd.reduce(lambda x, y: x + y)\n",
    "rating_count = ratings_rdd.count()\n",
    "average_rating = rating_sum / rating_count\n",
    "\n",
    "end_time = time.time()\n",
    "elapsed_time = end_time - start_time"
   ]
  },
  {
   "cell_type": "code",
   "execution_count": 28,
   "id": "f6577244",
   "metadata": {},
   "outputs": [
    {
     "name": "stdout",
     "output_type": "stream",
     "text": [
      "Average Rating: 4.0220948494727224\n",
      "Time taken: 17.930070 seconds\n"
     ]
    }
   ],
   "source": [
    "print(f\"Average Rating: {average_rating}\")\n",
    "print(f\"Time taken: {elapsed_time:.6f} seconds\")\n",
    "\n",
    "sc.stop()"
   ]
  }
 ],
 "metadata": {
  "kernelspec": {
   "display_name": "Python 3 (ipykernel)",
   "language": "python",
   "name": "python3"
  },
  "language_info": {
   "codemirror_mode": {
    "name": "ipython",
    "version": 3
   },
   "file_extension": ".py",
   "mimetype": "text/x-python",
   "name": "python",
   "nbconvert_exporter": "python",
   "pygments_lexer": "ipython3",
   "version": "3.10.9"
  }
 },
 "nbformat": 4,
 "nbformat_minor": 5
}
