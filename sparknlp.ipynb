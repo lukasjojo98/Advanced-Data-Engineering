{
 "cells": [
  {
   "cell_type": "code",
   "id": "initial_id",
   "metadata": {
    "collapsed": true,
    "ExecuteTime": {
     "end_time": "2024-12-02T14:24:33.183037Z",
     "start_time": "2024-12-02T14:23:17.068397Z"
    }
   },
   "source": [
    "# Importieren der notwendigen Bibliotheken\n",
    "import sparknlp\n",
    "from pyspark.sql import SparkSession\n",
    "from pyspark.sql.functions import col\n",
    "from sparknlp.base import DocumentAssembler\n",
    "from sparknlp.annotator import SentimentDLModel, Tokenizer, Normalizer, StopWordsCleaner\n",
    "from pyspark.ml import Pipeline\n",
    "import pandas as pd\n",
    "\n",
    "from dotenv import load_dotenv\n",
    "import os\n",
    "import sparknlp\n",
    "spark = sparknlp.start()\n",
    "# Starten einer Spark-Session\n",
    "SparkSession.builder \\\n",
    "    .appName(\"Spark NLP\") \\\n",
    "    .master(\"local[*]\") \\\n",
    "    .config(\"spark.driver.memory\", \"16G\") \\\n",
    "    .config(\"spark.serializer\", \"org.apache.spark.serializer.KryoSerializer\") \\\n",
    "    .config(\"spark.kryoserializer.buffer.max\", \"2000M\") \\\n",
    "    .config(\"spark.driver.maxResultSize\", \"0\") \\\n",
    "    .config(\"spark.jars.packages\", \"com.johnsnowlabs.nlp:spark-nlp_2.12:5.5.1\") \\\n",
    "    .getOrCreate()\n"
   ],
   "outputs": [
    {
     "data": {
      "text/plain": [
       "<pyspark.sql.session.SparkSession at 0x1d5aa941720>"
      ],
      "text/html": [
       "\n",
       "            <div>\n",
       "                <p><b>SparkSession - in-memory</b></p>\n",
       "                \n",
       "        <div>\n",
       "            <p><b>SparkContext</b></p>\n",
       "\n",
       "            <p><a href=\"http://Robins-PC:4040\">Spark UI</a></p>\n",
       "\n",
       "            <dl>\n",
       "              <dt>Version</dt>\n",
       "                <dd><code>v3.5.3</code></dd>\n",
       "              <dt>Master</dt>\n",
       "                <dd><code>local[*]</code></dd>\n",
       "              <dt>AppName</dt>\n",
       "                <dd><code>Spark NLP</code></dd>\n",
       "            </dl>\n",
       "        </div>\n",
       "        \n",
       "            </div>\n",
       "        "
      ]
     },
     "execution_count": 1,
     "metadata": {},
     "output_type": "execute_result"
    }
   ],
   "execution_count": 1
  },
  {
   "metadata": {
    "ExecuteTime": {
     "end_time": "2024-12-02T14:25:32.145890Z",
     "start_time": "2024-12-02T14:25:15.113890Z"
    }
   },
   "cell_type": "code",
   "source": [
    "# Review-Daten in ein Pandas DataFrame einfügen\n",
    "# data = {\n",
    "#     \"image\": [\"https://images-na.ssl-images-amazon.com/images/I/71eG75FTJJL._SY88.jpg\"],\n",
    "#     \"overall\": [5.0],\n",
    "#     \"vote\": [\"2\"],\n",
    "#     \"verified\": [True],\n",
    "#     \"reviewTime\": [\"01 1, 2018\"],\n",
    "#     \"reviewerID\": [\"AUI6WTTT0QZYS\"],\n",
    "#     \"asin\": [\"5120053084\"],\n",
    "#     \"style\": [{\"Size:\": \"Large\", \"Color:\": \"Charcoal\"}],\n",
    "#     \"reviewerName\": [\"Abbey\"],\n",
    "#     \"reviewText\": [\"I now have 4 of the 5 available colors of this shirt... \"],\n",
    "#     \"summary\": [\"Comfy, flattering, discreet--highly recommended!\"],\n",
    "#     \"unixReviewTime\": [1514764800]\n",
    "# }\n",
    "\n",
    "load_dotenv(\"./env.env\")\n",
    "path = os.getenv(\"DATA_PATH\")\n",
    "reviews_df = spark.read.json(path)\n",
    "valid_reviews_df = reviews_df.filter(reviews_df.overall.isNotNull())\n",
    "\n",
    "# Umwandeln des Pandas DataFrame in ein Spark DataFrame\n",
    "df = valid_reviews_df\n",
    "\n",
    "# Anzeigen der Struktur\n",
    "df.printSchema()\n"
   ],
   "id": "763a0a91536a51a0",
   "outputs": [
    {
     "name": "stdout",
     "output_type": "stream",
     "text": [
      "root\n",
      " |-- asin: string (nullable = true)\n",
      " |-- image: array (nullable = true)\n",
      " |    |-- element: string (containsNull = true)\n",
      " |-- overall: double (nullable = true)\n",
      " |-- reviewText: string (nullable = true)\n",
      " |-- reviewTime: string (nullable = true)\n",
      " |-- reviewerID: string (nullable = true)\n",
      " |-- reviewerName: string (nullable = true)\n",
      " |-- style: struct (nullable = true)\n",
      " |    |-- Color Name:: string (nullable = true)\n",
      " |    |-- Color:: string (nullable = true)\n",
      " |    |-- Configuration:: string (nullable = true)\n",
      " |    |-- Content:: string (nullable = true)\n",
      " |    |-- Denomination:: string (nullable = true)\n",
      " |    |-- Edition:: string (nullable = true)\n",
      " |    |-- Format:: string (nullable = true)\n",
      " |    |-- Item Package Quantity:: string (nullable = true)\n",
      " |    |-- Length:: string (nullable = true)\n",
      " |    |-- Offer Type:: string (nullable = true)\n",
      " |    |-- Package Quantity:: string (nullable = true)\n",
      " |    |-- Package Type:: string (nullable = true)\n",
      " |    |-- Pattern:: string (nullable = true)\n",
      " |    |-- Platform for Display:: string (nullable = true)\n",
      " |    |-- Platform:: string (nullable = true)\n",
      " |    |-- Size Name:: string (nullable = true)\n",
      " |    |-- Size:: string (nullable = true)\n",
      " |    |-- Style Name:: string (nullable = true)\n",
      " |    |-- Style:: string (nullable = true)\n",
      " |    |-- Subscription Length:: string (nullable = true)\n",
      " |-- summary: string (nullable = true)\n",
      " |-- unixReviewTime: long (nullable = true)\n",
      " |-- verified: boolean (nullable = true)\n",
      " |-- vote: string (nullable = true)\n",
      "\n"
     ]
    }
   ],
   "execution_count": 4
  },
  {
   "metadata": {
    "ExecuteTime": {
     "end_time": "2024-12-02T14:39:58.357080Z",
     "start_time": "2024-12-02T14:38:49.043353Z"
    }
   },
   "cell_type": "code",
   "source": [
    "from pyspark.sql import SparkSession\n",
    "from sparknlp.base import *\n",
    "from sparknlp.annotator import *\n",
    "from pyspark.sql.functions import col\n",
    "\n",
    "document_assembler = DocumentAssembler() \\\n",
    "    .setInputCol(\"reviewText\") \\\n",
    "    .setOutputCol(\"document\")\n",
    "\n",
    "sentence_embeddings = UniversalSentenceEncoder.pretrained(\"tfhub_use\", \"en\") \\\n",
    "    .setInputCols([\"document\"]) \\\n",
    "    .setOutputCol(\"sentence_embeddings\")\n",
    "\n",
    "sentiment_detector = SentimentDLModel.pretrained(\"sentimentdl_use_imdb\", \"en\") \\\n",
    "    .setInputCols([\"sentence_embeddings\"]) \\\n",
    "    .setOutputCol(\"sentiment\")\n",
    "\n",
    "# Pipeline erstellen\n",
    "pipeline = Pipeline(stages=[\n",
    "    document_assembler,\n",
    "    sentence_embeddings,\n",
    "    sentiment_detector\n",
    "])\n",
    "\n",
    "# Pipeline auf den Datensatz anwenden\n",
    "model = pipeline.fit(df)\n",
    "result = model.transform(df)\n"
   ],
   "id": "225cf5deac25ff27",
   "outputs": [
    {
     "name": "stdout",
     "output_type": "stream",
     "text": [
      "tfhub_use download started this may take some time.\n",
      "Approximate size to download 923,7 MB\n",
      "[OK!]\n",
      "sentimentdl_use_imdb download started this may take some time.\n",
      "Approximate size to download 12 MB\n",
      "[OK!]\n",
      "+--------------------------------------------------------------------------------------------------------------------------------------------------------------------------------------------------------------------------------------------------------------------------------------------------------------------------------------------------------------------------------------------------------------------------------------------------------------------------------------------------------------------------------------------------------------------------------------------------------------------------------------------------------------------------------------------------------------------------------------------------------------------------------------------------------------------------------------------------------------------------------------------------------------------------------------------------------------------------------------------------------------------------------------------+------+\n",
      "|reviewText                                                                                                                                                                                                                                                                                                                                                                                                                                                                                                                                                                                                                                                                                                                                                                                                                                                                                                                                                                                                                                  |result|\n",
      "+--------------------------------------------------------------------------------------------------------------------------------------------------------------------------------------------------------------------------------------------------------------------------------------------------------------------------------------------------------------------------------------------------------------------------------------------------------------------------------------------------------------------------------------------------------------------------------------------------------------------------------------------------------------------------------------------------------------------------------------------------------------------------------------------------------------------------------------------------------------------------------------------------------------------------------------------------------------------------------------------------------------------------------------------+------+\n",
      "|I used to play this game years ago and loved it. I found this did not work on my computer even though it said it would work with Windows 7.                                                                                                                                                                                                                                                                                                                                                                                                                                                                                                                                                                                                                                                                                                                                                                                                                                                                                                 |[pos] |\n",
      "|The game itself worked great but the story line videos would never play, the sound was fine but the picture would freeze and go black every time.                                                                                                                                                                                                                                                                                                                                                                                                                                                                                                                                                                                                                                                                                                                                                                                                                                                                                           |[neg] |\n",
      "|I had to learn the hard way after ordering this for my MacBook Pro that this doesn't work unless you have MAC OS version 10.3 or less. I found that out after contact the Learning Company directly. They were very prompt in their response. However, I also have a laptop with Microsoft 7. This program loaded beautifully with the Microsoft base. So, if you have Microsoft 7 or 8, purchase and enjoy this game. Any mac systems will likely have issues.                                                                                                                                                                                                                                                                                                                                                                                                                                                                                                                                                                             |[pos] |\n",
      "|The product description should state this clearly. The CD, the box, and the product description suggest that the game is compatible with all Macs. It is not.                                                                                                                                                                                                                                                                                                                                                                                                                                                                                                                                                                                                                                                                                                                                                                                                                                                                               |[neg] |\n",
      "|I would recommend this learning game for anyone who likes learning about history\\nI really like playing this history game                                                                                                                                                                                                                                                                                                                                                                                                                                                                                                                                                                                                                                                                                                                                                                                                                                                                                                                   |[pos] |\n",
      "|Choose your career which sets your money for the trip.  Then name how many and who will be traveling with you.  Before you leave town, you must go into town  choose wagons or Conestoga, animals and many supplies -watch your cash and your wagon weight!  On your journey you can talk with different people to make decisions about your next moves.  You also get to hunt, fish, & gather..Be careful of disease & rivers!                                                                                                                                                                                                                                                                                                                                                                                                                                                                                                                                                                                                             |[pos] |\n",
      "|Would like it more if they had at least updated it to run on the new software.  Had to download old fonts and old versions of software to get it to even run on my laptop                                                                                                                                                                                                                                                                                                                                                                                                                                                                                                                                                                                                                                                                                                                                                                                                                                                                   |[neg] |\n",
      "|It took a few hours to get this up and running on Windows 8 computer and Windows XP.  If you get an error go and download their patch.\\n\\n[...]\\n\\nJust the patch alone worked like a charm on Windows XP.  For Windows 8 I download the patch AND had to change the compatibility to WIndows ME.\\n\\nClassic game that the kids learn so much from...worth it.                                                                                                                                                                                                                                                                                                                                                                                                                                                                                                                                                                                                                                                                              |[pos] |\n",
      "|I oredered this for a daughter who is now 33 and she wanted to play the Oregon Trail that we had years ago...she and her fmily have had a blast with it..we laughed a lot as she would holler and squeal as she played the game.........so it has met all our expectations..                                                                                                                                                                                                                                                                                                                                                                                                                                                                                                                                                                                                                                                                                                                                                                |[pos] |\n",
      "|Well I thought since this idem didn't have any reviews I would make on for it.\\n\\nI got this game when I was somewhere around 8 1/2 Years old. I have played and beaten this game about 10 times. It's help kids learn about different types of plants which ones are safe to eat and which ones are deadly. You can geather, fish and hunt.\\n\\nGraphics: The graphics are amazing very fine and sharp which doesn't happen with most games.\\n\\nSound: The sound if wonderful although it sometimes is a little slow, but other then that it's really good.\\n\\nPros: Help ppl learn about different plants, fish and wild game.\\nIs really fun to play and it never gets old.\\nHas really cool short movies that you can watch over and over again.\\n\\nCons: For some reason the rattle snakes always try to kill me.\\nCan sometimes be a little tricky but if you bye the right stuff you will be fine.\\nThe disc got scratched up pretty easyly from just being in the Cd rom.\\n\\nOverall it's a good game that is good for ages 6 and up.|[pos] |\n",
      "|I got this to show my kids what I used to play in school.  The graphics are significantly better than I remember.  It's still the same decision making, problem solving, luck of the draw game it always was.  It's a fun way to share 'history' with the kids.  I use it to encourage empathy as they can see relatively quickly how their decisions directly impact others for good or bad.                                                                                                                                                                                                                                                                                                                                                                                                                                                                                                                                                                                                                                               |[pos] |\n",
      "|Works great!                                                                                                                                                                                                                                                                                                                                                                                                                                                                                                                                                                                                                                                                                                                                                                                                                                                                                                                                                                                                                                |[pos] |\n",
      "|I cannot get this game to install on my computer no matter what I do.                                                                                                                                                                                                                                                                                                                                                                                                                                                                                                                                                                                                                                                                                                                                                                                                                                                                                                                                                                       |[neg] |\n",
      "|My kids were psyched to get this to go along with our studies and it doesn't work on our MAC...even though the description states MAC...gotta have an OLD MAC!  Now I have to pay the return shipping?  Not cool                                                                                                                                                                                                                                                                                                                                                                                                                                                                                                                                                                                                                                                                                                                                                                                                                            |[pos] |\n",
      "|You must buy this game!! It is so much fun! Get ready for the plague! LOL                                                                                                                                                                                                                                                                                                                                                                                                                                                                                                                                                                                                                                                                                                                                                                                                                                                                                                                                                                   |[pos] |\n",
      "|Great game to play                                                                                                                                                                                                                                                                                                                                                                                                                                                                                                                                                                                                                                                                                                                                                                                                                                                                                                                                                                                                                          |[pos] |\n",
      "|LOVE THE GAME!!!!! GREAT SELLER!!!!!                                                                                                                                                                                                                                                                                                                                                                                                                                                                                                                                                                                                                                                                                                                                                                                                                                                                                                                                                                                                        |[pos] |\n",
      "|Doesn't say.  But is not compatible with newer model Macs.  So have to do a big headaches worth of stuff to be able to even run it.  Then it freezes and sticks all the time.  Not happy at all                                                                                                                                                                                                                                                                                                                                                                                                                                                                                                                                                                                                                                                                                                                                                                                                                                             |[neg] |\n",
      "|just what i was looking for                                                                                                                                                                                                                                                                                                                                                                                                                                                                                                                                                                                                                                                                                                                                                                                                                                                                                                                                                                                                                 |[neg] |\n",
      "|Bought as gift to replace older version. Believe it is being enjoyed.  I love the game and am very pleased each time I find the time to play it.                                                                                                                                                                                                                                                                                                                                                                                                                                                                                                                                                                                                                                                                                                                                                                                                                                                                                            |[pos] |\n",
      "+--------------------------------------------------------------------------------------------------------------------------------------------------------------------------------------------------------------------------------------------------------------------------------------------------------------------------------------------------------------------------------------------------------------------------------------------------------------------------------------------------------------------------------------------------------------------------------------------------------------------------------------------------------------------------------------------------------------------------------------------------------------------------------------------------------------------------------------------------------------------------------------------------------------------------------------------------------------------------------------------------------------------------------------------+------+\n",
      "only showing top 20 rows\n",
      "\n"
     ]
    }
   ],
   "execution_count": 13
  },
  {
   "metadata": {
    "ExecuteTime": {
     "end_time": "2024-12-02T14:41:30.733570Z",
     "start_time": "2024-12-02T14:41:29.989856Z"
    }
   },
   "cell_type": "code",
   "source": [
    "# Ergebnisse anzeigen (Spalten \"reviewText\" und \"sentiment.result\" gruppiert)\n",
    "result.select(\n",
    "    col(\"reviewText\").alias(\"Review Text\"),\n",
    "    col(\"sentiment.result\").getItem(0).alias(\"Sentiment Result\")\n",
    ").show(truncate=False)\n"
   ],
   "id": "29c59fbb3cb8873",
   "outputs": [
    {
     "name": "stdout",
     "output_type": "stream",
     "text": [
      "+--------------------------------------------------------------------------------------------------------------------------------------------------------------------------------------------------------------------------------------------------------------------------------------------------------------------------------------------------------------------------------------------------------------------------------------------------------------------------------------------------------------------------------------------------------------------------------------------------------------------------------------------------------------------------------------------------------------------------------------------------------------------------------------------------------------------------------------------------------------------------------------------------------------------------------------------------------------------------------------------------------------------------------------------+----------------+\n",
      "|Review Text                                                                                                                                                                                                                                                                                                                                                                                                                                                                                                                                                                                                                                                                                                                                                                                                                                                                                                                                                                                                                                 |Sentiment Result|\n",
      "+--------------------------------------------------------------------------------------------------------------------------------------------------------------------------------------------------------------------------------------------------------------------------------------------------------------------------------------------------------------------------------------------------------------------------------------------------------------------------------------------------------------------------------------------------------------------------------------------------------------------------------------------------------------------------------------------------------------------------------------------------------------------------------------------------------------------------------------------------------------------------------------------------------------------------------------------------------------------------------------------------------------------------------------------+----------------+\n",
      "|I used to play this game years ago and loved it. I found this did not work on my computer even though it said it would work with Windows 7.                                                                                                                                                                                                                                                                                                                                                                                                                                                                                                                                                                                                                                                                                                                                                                                                                                                                                                 |pos             |\n",
      "|The game itself worked great but the story line videos would never play, the sound was fine but the picture would freeze and go black every time.                                                                                                                                                                                                                                                                                                                                                                                                                                                                                                                                                                                                                                                                                                                                                                                                                                                                                           |neg             |\n",
      "|I had to learn the hard way after ordering this for my MacBook Pro that this doesn't work unless you have MAC OS version 10.3 or less. I found that out after contact the Learning Company directly. They were very prompt in their response. However, I also have a laptop with Microsoft 7. This program loaded beautifully with the Microsoft base. So, if you have Microsoft 7 or 8, purchase and enjoy this game. Any mac systems will likely have issues.                                                                                                                                                                                                                                                                                                                                                                                                                                                                                                                                                                             |pos             |\n",
      "|The product description should state this clearly. The CD, the box, and the product description suggest that the game is compatible with all Macs. It is not.                                                                                                                                                                                                                                                                                                                                                                                                                                                                                                                                                                                                                                                                                                                                                                                                                                                                               |neg             |\n",
      "|I would recommend this learning game for anyone who likes learning about history\\nI really like playing this history game                                                                                                                                                                                                                                                                                                                                                                                                                                                                                                                                                                                                                                                                                                                                                                                                                                                                                                                   |pos             |\n",
      "|Choose your career which sets your money for the trip.  Then name how many and who will be traveling with you.  Before you leave town, you must go into town  choose wagons or Conestoga, animals and many supplies -watch your cash and your wagon weight!  On your journey you can talk with different people to make decisions about your next moves.  You also get to hunt, fish, & gather..Be careful of disease & rivers!                                                                                                                                                                                                                                                                                                                                                                                                                                                                                                                                                                                                             |pos             |\n",
      "|Would like it more if they had at least updated it to run on the new software.  Had to download old fonts and old versions of software to get it to even run on my laptop                                                                                                                                                                                                                                                                                                                                                                                                                                                                                                                                                                                                                                                                                                                                                                                                                                                                   |neg             |\n",
      "|It took a few hours to get this up and running on Windows 8 computer and Windows XP.  If you get an error go and download their patch.\\n\\n[...]\\n\\nJust the patch alone worked like a charm on Windows XP.  For Windows 8 I download the patch AND had to change the compatibility to WIndows ME.\\n\\nClassic game that the kids learn so much from...worth it.                                                                                                                                                                                                                                                                                                                                                                                                                                                                                                                                                                                                                                                                              |pos             |\n",
      "|I oredered this for a daughter who is now 33 and she wanted to play the Oregon Trail that we had years ago...she and her fmily have had a blast with it..we laughed a lot as she would holler and squeal as she played the game.........so it has met all our expectations..                                                                                                                                                                                                                                                                                                                                                                                                                                                                                                                                                                                                                                                                                                                                                                |pos             |\n",
      "|Well I thought since this idem didn't have any reviews I would make on for it.\\n\\nI got this game when I was somewhere around 8 1/2 Years old. I have played and beaten this game about 10 times. It's help kids learn about different types of plants which ones are safe to eat and which ones are deadly. You can geather, fish and hunt.\\n\\nGraphics: The graphics are amazing very fine and sharp which doesn't happen with most games.\\n\\nSound: The sound if wonderful although it sometimes is a little slow, but other then that it's really good.\\n\\nPros: Help ppl learn about different plants, fish and wild game.\\nIs really fun to play and it never gets old.\\nHas really cool short movies that you can watch over and over again.\\n\\nCons: For some reason the rattle snakes always try to kill me.\\nCan sometimes be a little tricky but if you bye the right stuff you will be fine.\\nThe disc got scratched up pretty easyly from just being in the Cd rom.\\n\\nOverall it's a good game that is good for ages 6 and up.|pos             |\n",
      "|I got this to show my kids what I used to play in school.  The graphics are significantly better than I remember.  It's still the same decision making, problem solving, luck of the draw game it always was.  It's a fun way to share 'history' with the kids.  I use it to encourage empathy as they can see relatively quickly how their decisions directly impact others for good or bad.                                                                                                                                                                                                                                                                                                                                                                                                                                                                                                                                                                                                                                               |pos             |\n",
      "|Works great!                                                                                                                                                                                                                                                                                                                                                                                                                                                                                                                                                                                                                                                                                                                                                                                                                                                                                                                                                                                                                                |pos             |\n",
      "|I cannot get this game to install on my computer no matter what I do.                                                                                                                                                                                                                                                                                                                                                                                                                                                                                                                                                                                                                                                                                                                                                                                                                                                                                                                                                                       |neg             |\n",
      "|My kids were psyched to get this to go along with our studies and it doesn't work on our MAC...even though the description states MAC...gotta have an OLD MAC!  Now I have to pay the return shipping?  Not cool                                                                                                                                                                                                                                                                                                                                                                                                                                                                                                                                                                                                                                                                                                                                                                                                                            |pos             |\n",
      "|You must buy this game!! It is so much fun! Get ready for the plague! LOL                                                                                                                                                                                                                                                                                                                                                                                                                                                                                                                                                                                                                                                                                                                                                                                                                                                                                                                                                                   |pos             |\n",
      "|Great game to play                                                                                                                                                                                                                                                                                                                                                                                                                                                                                                                                                                                                                                                                                                                                                                                                                                                                                                                                                                                                                          |pos             |\n",
      "|LOVE THE GAME!!!!! GREAT SELLER!!!!!                                                                                                                                                                                                                                                                                                                                                                                                                                                                                                                                                                                                                                                                                                                                                                                                                                                                                                                                                                                                        |pos             |\n",
      "|Doesn't say.  But is not compatible with newer model Macs.  So have to do a big headaches worth of stuff to be able to even run it.  Then it freezes and sticks all the time.  Not happy at all                                                                                                                                                                                                                                                                                                                                                                                                                                                                                                                                                                                                                                                                                                                                                                                                                                             |neg             |\n",
      "|just what i was looking for                                                                                                                                                                                                                                                                                                                                                                                                                                                                                                                                                                                                                                                                                                                                                                                                                                                                                                                                                                                                                 |neg             |\n",
      "|Bought as gift to replace older version. Believe it is being enjoyed.  I love the game and am very pleased each time I find the time to play it.                                                                                                                                                                                                                                                                                                                                                                                                                                                                                                                                                                                                                                                                                                                                                                                                                                                                                            |pos             |\n",
      "+--------------------------------------------------------------------------------------------------------------------------------------------------------------------------------------------------------------------------------------------------------------------------------------------------------------------------------------------------------------------------------------------------------------------------------------------------------------------------------------------------------------------------------------------------------------------------------------------------------------------------------------------------------------------------------------------------------------------------------------------------------------------------------------------------------------------------------------------------------------------------------------------------------------------------------------------------------------------------------------------------------------------------------------------+----------------+\n",
      "only showing top 20 rows\n",
      "\n"
     ]
    }
   ],
   "execution_count": 14
  },
  {
   "metadata": {},
   "cell_type": "code",
   "outputs": [],
   "execution_count": null,
   "source": "",
   "id": "f671dd0f7660417b"
  }
 ],
 "metadata": {
  "kernelspec": {
   "display_name": "Python 3",
   "language": "python",
   "name": "python3"
  },
  "language_info": {
   "codemirror_mode": {
    "name": "ipython",
    "version": 2
   },
   "file_extension": ".py",
   "mimetype": "text/x-python",
   "name": "python",
   "nbconvert_exporter": "python",
   "pygments_lexer": "ipython2",
   "version": "2.7.6"
  }
 },
 "nbformat": 4,
 "nbformat_minor": 5
}
